{
 "cells": [
  {
   "cell_type": "code",
   "execution_count": 2,
   "metadata": {},
   "outputs": [
    {
     "name": "stdout",
     "output_type": "stream",
     "text": [
      "                     Usuario       Fecha     Pais Categoría de compra  \\\n",
      "0           Enrique Gonzalez  30-08-2023   España            Deportes   \n",
      "1         Miguel Santisteban  24-09-2023  Francia                Ropa   \n",
      "2  Guillermo González-Alloza  31-10-2023   Italia         Videojuegos   \n",
      "3                Esteban Gil  28-08-2023  Polonia              Libros   \n",
      "\n",
      "  Valoracion  \n",
      "0          5  \n",
      "1          3  \n",
      "2          4  \n",
      "3          2  \n"
     ]
    }
   ],
   "source": [
    "import pandas as pd\n",
    "\n",
    "data = {\n",
    "    \"Usuario\": [\"Enrique Gonzalez\", \"Miguel Santisteban\", \"Guillermo González-Alloza\", \"Esteban Gil\"],\n",
    "    \"Fecha\": [\"30-08-2023\", \"24-09-2023\", \"31-10-2023\", \"28-08-2023\"],\n",
    "    \"Pais\": [\"España\", \"Francia\", \"Italia\",\"Polonia\"],\n",
    "    \"Categoría de compra\": [\"Deportes\", \"Ropa\", \"Videojuegos\",\"Libros\"],\n",
    "    \"Valoracion\": [\"5\",\"3\",\"4\",\"2\"]\n",
    "}\n",
    "\n",
    "df = pd.DataFrame(data)\n",
    "\n",
    "print(df)"
   ]
  },
  {
   "cell_type": "code",
   "execution_count": 5,
   "metadata": {},
   "outputs": [],
   "source": [
    "Transcciones_Usuarios = pd.DataFrame({\"Producto_ID\":[\"01\",\"02\",\"03\",\"01\",\"02\",\"03\"],\n",
    "                        \"Usuario\":[\"Enrique Gonzalez\", \"Miguel Santisteban\", \"Guillermo González-Alloza\",\"Miguel Santisteban\", \"Guillermo González-Alloza\",\"Enrique Gonzalez\"],\n",
    "                        \"Accion\":[\"Venta\",\"Venta\",\"Venta\",\"Compra\",\"Compra\",\"Compra\"]})"
   ]
  },
  {
   "cell_type": "code",
   "execution_count": 7,
   "metadata": {},
   "outputs": [],
   "source": [
    "Pais = pd.DataFrame({\"Usuario\":[\"Enrique Gonzalez\", \"Miguel Santisteban\", \"Guillermo González-Alloza\"],\n",
    "                           \"Pais\": [\"España\",\"Italia\",\"Francia\"]})\n",
    "Fecha_de_transaccion = pd.DataFrame({\"Producto_ID\":[\"01\",\"02\",\"03\"],\n",
    "                                     \"Fecha\": [\"30-08-2023\", \"24-09-2023\", \"31-10-2023\"]})\n",
    "Producto = pd.DataFrame({\"Producto_ID\":[\"01\",\"02\",\"03\"],\"Categoría de compra\": [\"Deportes\", \"Ropa\", \"Videojuegos\"],\n",
    "    \"Valoracion\": [\"5\",\"3\",\"4\"]})"
   ]
  },
  {
   "cell_type": "code",
   "execution_count": 11,
   "metadata": {},
   "outputs": [],
   "source": [
    "a = pd.merge(Transcciones_Usuarios, Pais, on=\"Usuario\", how='left')\n",
    "b = pd.merge(a, Fecha_de_transaccion,on=\"Producto_ID\", how='left')\n",
    "Una_Tabla= pd.merge(b, Producto,on=\"Producto_ID\", how='left')\n",
    "Una_Tabla = Una_Tabla.sort_values(by='Producto_ID')"
   ]
  },
  {
   "cell_type": "code",
   "execution_count": 12,
   "metadata": {},
   "outputs": [
    {
     "data": {
      "text/html": [
       "<div>\n",
       "<style scoped>\n",
       "    .dataframe tbody tr th:only-of-type {\n",
       "        vertical-align: middle;\n",
       "    }\n",
       "\n",
       "    .dataframe tbody tr th {\n",
       "        vertical-align: top;\n",
       "    }\n",
       "\n",
       "    .dataframe thead th {\n",
       "        text-align: right;\n",
       "    }\n",
       "</style>\n",
       "<table border=\"1\" class=\"dataframe\">\n",
       "  <thead>\n",
       "    <tr style=\"text-align: right;\">\n",
       "      <th></th>\n",
       "      <th>Producto_ID</th>\n",
       "      <th>Usuario</th>\n",
       "      <th>Accion</th>\n",
       "      <th>Pais</th>\n",
       "      <th>Fecha</th>\n",
       "      <th>Categoría de compra</th>\n",
       "      <th>Valoracion</th>\n",
       "    </tr>\n",
       "  </thead>\n",
       "  <tbody>\n",
       "    <tr>\n",
       "      <th>0</th>\n",
       "      <td>01</td>\n",
       "      <td>Enrique Gonzalez</td>\n",
       "      <td>Venta</td>\n",
       "      <td>España</td>\n",
       "      <td>30-08-2023</td>\n",
       "      <td>Deportes</td>\n",
       "      <td>5</td>\n",
       "    </tr>\n",
       "    <tr>\n",
       "      <th>3</th>\n",
       "      <td>01</td>\n",
       "      <td>Miguel Santisteban</td>\n",
       "      <td>Compra</td>\n",
       "      <td>Italia</td>\n",
       "      <td>30-08-2023</td>\n",
       "      <td>Deportes</td>\n",
       "      <td>5</td>\n",
       "    </tr>\n",
       "    <tr>\n",
       "      <th>1</th>\n",
       "      <td>02</td>\n",
       "      <td>Miguel Santisteban</td>\n",
       "      <td>Venta</td>\n",
       "      <td>Italia</td>\n",
       "      <td>24-09-2023</td>\n",
       "      <td>Ropa</td>\n",
       "      <td>3</td>\n",
       "    </tr>\n",
       "    <tr>\n",
       "      <th>4</th>\n",
       "      <td>02</td>\n",
       "      <td>Guillermo González-Alloza</td>\n",
       "      <td>Compra</td>\n",
       "      <td>Francia</td>\n",
       "      <td>24-09-2023</td>\n",
       "      <td>Ropa</td>\n",
       "      <td>3</td>\n",
       "    </tr>\n",
       "    <tr>\n",
       "      <th>2</th>\n",
       "      <td>03</td>\n",
       "      <td>Guillermo González-Alloza</td>\n",
       "      <td>Venta</td>\n",
       "      <td>Francia</td>\n",
       "      <td>31-10-2023</td>\n",
       "      <td>Videojuegos</td>\n",
       "      <td>4</td>\n",
       "    </tr>\n",
       "    <tr>\n",
       "      <th>5</th>\n",
       "      <td>03</td>\n",
       "      <td>Enrique Gonzalez</td>\n",
       "      <td>Compra</td>\n",
       "      <td>España</td>\n",
       "      <td>31-10-2023</td>\n",
       "      <td>Videojuegos</td>\n",
       "      <td>4</td>\n",
       "    </tr>\n",
       "  </tbody>\n",
       "</table>\n",
       "</div>"
      ],
      "text/plain": [
       "  Producto_ID                    Usuario  Accion     Pais       Fecha  \\\n",
       "0          01           Enrique Gonzalez   Venta   España  30-08-2023   \n",
       "3          01         Miguel Santisteban  Compra   Italia  30-08-2023   \n",
       "1          02         Miguel Santisteban   Venta   Italia  24-09-2023   \n",
       "4          02  Guillermo González-Alloza  Compra  Francia  24-09-2023   \n",
       "2          03  Guillermo González-Alloza   Venta  Francia  31-10-2023   \n",
       "5          03           Enrique Gonzalez  Compra   España  31-10-2023   \n",
       "\n",
       "  Categoría de compra Valoracion  \n",
       "0            Deportes          5  \n",
       "3            Deportes          5  \n",
       "1                Ropa          3  \n",
       "4                Ropa          3  \n",
       "2         Videojuegos          4  \n",
       "5         Videojuegos          4  "
      ]
     },
     "execution_count": 12,
     "metadata": {},
     "output_type": "execute_result"
    }
   ],
   "source": [
    "Transcciones_Usuarios\n",
    "Pais\n",
    "Fecha_de_transaccion\n",
    "Producto\n",
    "Una_Tabla"
   ]
  }
 ],
 "metadata": {
  "kernelspec": {
   "display_name": "Python 3",
   "language": "python",
   "name": "python3"
  },
  "language_info": {
   "codemirror_mode": {
    "name": "ipython",
    "version": 3
   },
   "file_extension": ".py",
   "mimetype": "text/x-python",
   "name": "python",
   "nbconvert_exporter": "python",
   "pygments_lexer": "ipython3",
   "version": "3.10.8"
  }
 },
 "nbformat": 4,
 "nbformat_minor": 2
}
